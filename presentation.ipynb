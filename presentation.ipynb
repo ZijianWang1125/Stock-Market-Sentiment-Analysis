{
 "cells": [
  {
   "cell_type": "markdown",
   "metadata": {
    "slideshow": {
     "slide_type": "slide"
    }
   },
   "source": [
    "# **Stock Market Sentiment Analysis**  \n",
    "\n",
    "Predicting Market Returns Using Online Investor Sentiment  \n",
    "Presented by: Chuxuan Ma, Zijian Wang \n",
    "Date: March 3, 2025"
   ]
  },
  {
   "cell_type": "markdown",
   "metadata": {
    "slideshow": {
     "slide_type": "slide"
    }
   },
   "source": [
    "## Background & Motivation\n",
    "\n",
    "- **Investor Sentiment Matters:**  \n",
    "  Investor emotions and sentiment have been shown to affect market momentum and price fluctuations.\n",
    "  \n",
    "- **Stock Market as a Barometer:**  \n",
    "  The Shanghai Composite Index is widely regarded as a reflection of the overall market sentiment and economic conditions in China.\n",
    "\n",
    "- **Problem Context:**  \n",
    "  - How online opinions, posts, and comments (from finance forums) aggregate into measurable market sentiment.  \n",
    "  - Can we quantify this sentiment and improve predictions of next-day returns?"
   ]
  },
  {
   "cell_type": "markdown",
   "metadata": {
    "slideshow": {
     "slide_type": "slide"
    }
   },
   "source": [
    "## Project Goals\n",
    "\n",
    "- **Data Integration:**  \n",
    "  Integrate labeled Chinese financial sentiment data from Github, Kaggle, and Hugging Face.\n",
    "\n",
    "- **Modeling Approach:**  \n",
    "  - Fine-tune a Chinese pre-trained BERT model with an added fully connected layer to output a sentiment score.\n",
    "  - Train the model using 10 epochs on our curated dataset.\n",
    "\n",
    "- **Sentiment Quantification:**  \n",
    "  - Use Beautiful Soup to crawl posts/comments from **EastMoney-Shanghai Securities Composite index (SSEC) forum** (**2018/12/1–2025/1/1**).\n",
    "  - Predict sentiment scores with the BERT model.\n",
    "  \n",
    "- **Index Construction:**  \n",
    "  Calculate a monthly sentiment index with a rolling window to capture the impact on the Shanghai Composite Index."
   ]
  },
  {
   "cell_type": "markdown",
   "metadata": {
    "slideshow": {
     "slide_type": "slide"
    }
   },
   "source": [
    "- **Investment Strategy:**  \n",
    "  Incorporate the sentiment index as an additional factor in a regression model to predict next-day returns and design a trading strategy."
   ]
  },
  {
   "cell_type": "markdown",
   "metadata": {
    "slideshow": {
     "slide_type": "slide"
    }
   },
   "source": [
    "## Approach\n",
    "### 1. Data Collection & Model Training\n",
    "\n",
    "- **Step 1: Labeled Data Acquisition**  \n",
    "  - Sources: Github, Kaggle, Hugging Face  \n",
    "  - Labels: “Positive” (1), “Neutral” (0), “Negative” (-1)\n",
    "\n",
    "- **Step 2: BERT Sentiment Score Model**\n",
    "  - **Model:** Chinese pre-trained BERT + Fully Connected layer\n",
    "  - **Training:** Fine-tune on the collected dataset for 10 epochs  \n",
    "  - **Objective:** Predict sentiment probability for each financial post/comment\n",
    "\n",
    "- **Mathematical Formulation for a Comment:**\n",
    "\n",
    "  $$\n",
    "  \\text{score}_i = f_{\\text{BERT}, \\text{prob}}(\\text{comment}_i)\n",
    "  $$"
   ]
  },
  {
   "cell_type": "markdown",
   "metadata": {
    "slideshow": {
     "slide_type": "slide"
    }
   },
   "source": [
    "### 2. Web Scraping with Beautiful Soup\n",
    "\n",
    "- **Data Source:** 东方财富网-上证指数吧  \n",
    "- **Time Period:** 2018/12/1 – 2025/1/1  \n",
    "- **Target Data:** All available posts and comments\n",
    "\n",
    "- **Process:**  \n",
    "  - Utilize Beautiful Soup for HTML parsing.  \n",
    "  - Extract text data and timestamp along with other metadata.  \n",
    "  - Apply the BERT model to each post/comment to obtain the sentiment score.\n",
    "\n",
    "- **Example Data Table:**\n",
    "\n",
    "<center>\n",
    "\n",
    "| Post ID | Date       | Excerpt                          | Predicted Score |\n",
    "|---------|------------|----------------------------------|-----------------|\n",
    "| 1       | 2024-05-01 | \"Investor optimism is rising.\"   | 0.85            |\n",
    "| 2       | 2024-05-01 | \"Concerns over market volatility.\" | 0.30            |\n",
    "| 3       | 2024-05-01 | \"Mixed signals with uncertainty.\" | 0.50            |\n",
    "\n",
    "</center>"
   ]
  },
  {
   "cell_type": "markdown",
   "metadata": {
    "slideshow": {
     "slide_type": "slide"
    }
   },
   "source": [
    "### 3. Monthly Sentiment Index Calculation\n",
    "\n",
    "- **Rolling Window Method:**  \n",
    "  For each month $t \\in \\{ \\text{2019-01-01}, \\dots, \\text{2025-01-01} \\}$, use data from $[t-1, t]$.\n",
    "\n",
    "- **Aggregation Process:**  \n",
    "  For $n_t$ posts/comments during $[t-1, t]$:\n",
    "\n",
    "  - Positive sentiment sum:\n",
    "\n",
    "    $$\\text{pos}_t = \\sum_{i=1}^{n_t} \\text{score}_i$$\n",
    "\n",
    "  - Negative sentiment sum:\n",
    "\n",
    "    $$\n",
    "    \\text{neg}_t = \\sum_{i=1}^{n_t} (1-\\text{score}_i)\n",
    "    $$\n",
    "\n",
    "  - **Sentiment Index:**\n",
    "\n",
    "    $$\n",
    "    \\text{index}_t = \\ln\\left(\\frac{1+\\text{pos}_t}{1+\\text{neg}_t}\\right)\n",
    "    $$"
   ]
  },
  {
   "cell_type": "markdown",
   "metadata": {
    "slideshow": {
     "slide_type": "slide"
    }
   },
   "source": [
    "- **Example Calculation Table:**\n",
    "\n",
    "<center>\n",
    "\n",
    "| Month   | $$n_t$$ | $$\\text{pos}_t$$ | $$\\text{neg}_t$$ | $$\\text{index}_t$$                         |\n",
    "|---------|---------|------------------|------------------|--------------------------------------------|\n",
    "| 2025-1-24  | 150     | 110              | 40               | $$\\ln\\left(\\frac{1+110}{1+40}\\right) \\approx 1.00$$ |\n",
    "| 2025-2-24  | 200     | 150              | 50               | $$\\ln\\left(\\frac{1+150}{1+50}\\right) \\approx 1.09$$ |\n",
    "\n",
    "</center>"
   ]
  },
  {
   "cell_type": "markdown",
   "metadata": {
    "slideshow": {
     "slide_type": "slide"
    }
   },
   "source": [
    "### 4. Predictive Regression Model\n",
    "\n",
    "- **Regression Model:**\n",
    "\n",
    "  Original model without sentiment:\n",
    "\n",
    "  $$\n",
    "  r_{t+1} = \\hat{\\alpha} + \\sum_{i=1}^{n} \\hat{\\beta}_i \\, \\text{factor}_{i, t} + \\hat{\\epsilon}_{t}\n",
    "  $$\n",
    "\n",
    "- **Incorporating Sentiment Index:**\n",
    "\n",
    "  $$\n",
    "  r_{t+1} = \\hat{\\alpha} + \\sum_{i=1}^{n} \\hat{\\beta}_i \\, \\text{factor}_{i, t} + \\hat{\\beta}_{n+1} \\, \\text{index}_t + \\hat{\\epsilon}_{t}\n",
    "  $$\n",
    "\n",
    "  where $r_{t+1} = \\frac{P_{t+1} - P_t}{P_t}$.\n",
    "\n",
    "- **Trading Signal:**\n",
    "  - If $\\hat{r}_{t+1} > 0$: **Buy**\n",
    "  - Else: **No Buy**"
   ]
  },
  {
   "cell_type": "markdown",
   "metadata": {
    "slideshow": {
     "slide_type": "slide"
    }
   },
   "source": [
    "- **Example Investment Strategy Table:**\n",
    "\n",
    "<center>\n",
    "\n",
    "| Trade Date $t$ | $\\text{factor}_{1, t}$ | ...   | $\\text{index}_t$ | $\\hat{r}_{t+1}$ | Trading Signal | Actual $r_{t+1}$ |\n",
    "|-----------------|-----------------------|------|------------------|-----------------  |---------------- |------------------|\n",
    "| 2025-01-02      | 0.1%                  | ...  | 0.2%             | 0.5%              | Buy             | 0.6%           |\n",
    "| 2025-01-09      | 0.3%                  | ...  | 0.4%             | -0.2%             | No Buy          | -0.1%          |\n",
    "| 2025-01-16      | 0.2%                  | ...  | 0.5%             | 0.3%              | Buy             | 0.4%           |\n",
    "\n",
    "</center>"
   ]
  },
  {
   "cell_type": "markdown",
   "metadata": {
    "slideshow": {
     "slide_type": "slide"
    }
   },
   "source": [
    "### 5. Backtesting & Strategy Performance\n",
    "\n",
    "- **Backtesting Period:**  \n",
    "  January 2, 2025 – March 1, 2025\n",
    "\n",
    "- **Approach:**\n",
    "  - Use the regression model with the sentiment index to predict returns.\n",
    "  - Execute the trading strategy in a simulated environment.\n",
    "  \n",
    "- **Evaluation Metric:**  \n",
    "  - Total return over the period.\n",
    "  - Comparison of $ R^2 $ changes with/without the sentiment factor.\n",
    "  \n",
    "- **Observation:**  \n",
    "  - If inclusion of $\\text{index}_t$ significantly improves $ R^2 $ and the estimated $\\hat{\\beta}_{n+1}$ is statistically significant, investor sentiment can be considered a meaningful predictor."
   ]
  },
  {
   "cell_type": "markdown",
   "metadata": {
    "slideshow": {
     "slide_type": "slide"
    }
   },
   "source": [
    "## Discussion of Existing Solutions\n",
    "\n",
    "- **Existing Approaches:**\n",
    "  - Traditional sentiment analysis using lexicon-based methods.\n",
    "  - Machine learning models that combine news sentiment with price data.\n",
    "  - Use of alternative data (like social media posts) often suffers from future bias when using metrics like likes/upvotes.\n",
    "\n",
    "- **Our Improvements and Perspectives:**\n",
    "  - **Novel Data Source:**  \n",
    "    Utilizing forum posts from EastMoney “future bias” by not including future likes/upvotes.\n",
    "  - **Rolling Window Sentiment Index:**  \n",
    "    Incorporates a forgetting effect and aligns with the reporting period.\n",
    "  - **Integration with Traditional Factors:**  \n",
    "    The framework tests if sentiment adds predictive power over standard financial indicators."
   ]
  },
  {
   "cell_type": "markdown",
   "metadata": {
    "slideshow": {
     "slide_type": "slide"
    }
   },
   "source": [
    "  - **Future Work (Milestone 2):**  \n",
    "    - Explore alternative aggregation methods (e.g., weighted sentiment based on user credibility).\n",
    "    - Compare with deep learning approaches (e.g., transformer models using full context of posts)."
   ]
  },
  {
   "cell_type": "markdown",
   "metadata": {
    "slideshow": {
     "slide_type": "slide"
    }
   },
   "source": [
    "## Conclusion\n",
    "\n",
    "- **Summary:**  \n",
    "  - We built a pipeline that collects labeled sentiment data, fine-tunes BERT for sentiment classification, and crawls financial forum data.\n",
    "  - Using a rolling window, we compute a monthly sentiment index and integrate it into a regression model predicting next-day returns.\n",
    "  - Preliminary backtesting shows potential for the sentiment index to improve investment decisions.\n",
    "\n",
    "- **Final Thoughts:**  \n",
    "  - This framework provides a novel quantitative approach that captures the human element of market behavior.\n",
    "  - Continued improvements and comparative studies with existing methods will further refine the model and strategy."
   ]
  }
 ],
 "metadata": {
  "kernelspec": {
   "display_name": "base",
   "language": "python",
   "name": "python3"
  },
  "language_info": {
   "name": "python",
   "version": "3.11.7"
  }
 },
 "nbformat": 4,
 "nbformat_minor": 2
}
